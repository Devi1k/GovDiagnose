{
 "cells": [
  {
   "cell_type": "code",
   "execution_count": 9,
   "metadata": {
    "collapsed": true
   },
   "outputs": [
    {
     "name": "stdout",
     "output_type": "stream",
     "text": [
      "{'goal': {'request_slots': {'service': 'UNK'}, 'max_slot': {}, 'service_tag': {}, 'explicit_inform_slots': {}, 'implicit_inform_slots': {}}, 'user_action': {'turn': '', 'action': '', 'speaker': 'user', 'request_slots': '', 'inform_slots': '', 'user_judge': False}, 'agent_aciton': {'turn': 1, 'action': '', 'speaker': 'agent', 'request_slots': {}, 'inform_slots': {}}}\n"
     ]
    }
   ],
   "source": [
    "import json\n",
    "\n",
    "with open('../data/goal_set.json', 'r') as f:\n",
    "    goal_set = json.load(f)\n",
    "    goal_set['user_action']['user_judge'] = False\n",
    "    print(goal_set)\n",
    "with open('../data/goal_set.json', 'w') as f:"
   ]
  },
  {
   "cell_type": "code",
   "execution_count": null,
   "outputs": [],
   "source": [],
   "metadata": {
    "collapsed": false,
    "pycharm": {
     "name": "#%%\n"
    }
   }
  }
 ],
 "metadata": {
  "kernelspec": {
   "display_name": "Python 3",
   "language": "python",
   "name": "python3"
  },
  "language_info": {
   "codemirror_mode": {
    "name": "ipython",
    "version": 2
   },
   "file_extension": ".py",
   "mimetype": "text/x-python",
   "name": "python",
   "nbconvert_exporter": "python",
   "pygments_lexer": "ipython2",
   "version": "2.7.6"
  }
 },
 "nbformat": 4,
 "nbformat_minor": 0
}